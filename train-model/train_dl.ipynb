{
 "cells": [
  {
   "cell_type": "code",
   "execution_count": 16,
   "metadata": {},
   "outputs": [
    {
     "name": "stdout",
     "output_type": "stream",
     "text": [
      "cuda\n"
     ]
    }
   ],
   "source": [
    "import matplotlib.pyplot as plt\n",
    "import numpy as np\n",
    "import torch\n",
    "from torch import nn\n",
    "import pandas as pd\n",
    "from sklearn.model_selection import train_test_split\n",
    "from torchsummary import summary\n",
    "from torch.utils.data import Dataset\n",
    "from torch.utils.data import DataLoader\n",
    "from torchvision.transforms import ToTensor\n",
    "\n",
    "device = \"cuda\" if torch.cuda.is_available() else \"cpu\"\n",
    "torch.__version__\n",
    "print(device)"
   ]
  },
  {
   "cell_type": "markdown",
   "metadata": {},
   "source": [
    "## Utils and Input & Output Process"
   ]
  },
  {
   "cell_type": "code",
   "execution_count": 96,
   "metadata": {},
   "outputs": [],
   "source": [
    "# ============================== Utils =========================================\n",
    "def print_train_time(start: float, end: float, device: torch.device = None):\n",
    "    total_time = end - start\n",
    "    print(f\"Train time on {device}: {total_time:.3f} seconds\")\n",
    "    return total_time\n",
    "\n",
    "def plot_loss_accuracy(history):\n",
    "    # list all data in history\n",
    "    print(history.history.keys())\n",
    "    # summarize history for accuracy\n",
    "    plt.plot(history.history['categorical_accuracy'])\n",
    "    if ('val_categorical_accuracy' in history.history.keys()):\n",
    "        plt.plot(history.history['val_categorical_accuracy'])\n",
    "    plt.title('model accuracy')\n",
    "    plt.ylabel('accuracy')\n",
    "    plt.xlabel('epoch')\n",
    "    plt.legend(['train', 'test'], loc='upper left')\n",
    "    plt.show()\n",
    "    # summarize history for loss\n",
    "    plt.plot(history.history['loss'])\n",
    "    if ('val_loss' in history.history.keys()):\n",
    "        plt.plot(history.history['val_loss'])\n",
    "    plt.title('model loss')\n",
    "    plt.ylabel('loss')\n",
    "    plt.xlabel('epoch')\n",
    "    plt.legend(['train', 'test'], loc='upper left')\n",
    "    plt.show()\n",
    "\n",
    "def adBits(x, x2, y, seqsize=100):\n",
    "   for i in range(x.shape[0]):\n",
    "      #print(' for each train sample  ... ', i)\n",
    "      loop = seqsize\n",
    "      j = 0\n",
    "      for loop in range(seqsize):     \n",
    "          #print(' for each node ... ', j)\n",
    "          adBits_1 = int(x[i][2*loop])\n",
    "          #Get the next LONG since each node now has 2 LONGs for adj edges\n",
    "          adBits_2 = int(x[i][2*loop+1])\n",
    "          # Uncomment below if you want invalid nodes to not feed to NN before any valid nodes\n",
    "          #if (adBits_1==0 and adBits_1==0 and loop!=seqsize-1):              \n",
    "          #    y[i][j] = y[i][loop+1] \n",
    "          #    continue\n",
    "          if (adBits_1):\n",
    "              #print adBits\n",
    "              for k in range(0,64):\n",
    "                  bit = adBits_1 & 1\n",
    "                  #print ( ' adBits&1 = ',  bit )\n",
    "                  # Uncomment below if you want new nodes to only have adjacency to earlier nodes\n",
    "                  if ( bit == 1):\n",
    "                  #if ( bit == 1 and k<j):\n",
    "                      x2[i][j][k] = 1\n",
    "                      #print x2[i-1][j-1][k-1]\n",
    "                  else:\n",
    "                      x2[i][j][k] = 0\n",
    "                      #print x2[i-1][j-1][k-1]\n",
    "                  adBits_1 >>= 1\n",
    "              x2[i][j][j] = 1 \n",
    "\n",
    "          if (adBits_2):   \n",
    "              #print adBits\n",
    "              for k in range(64,100):\n",
    "                  bit = adBits_2 & 1\n",
    "                  #print ( ' adBits&1 = ',  bit )\n",
    "                  if ( bit == 1):\n",
    "                  #if ( bit == 1 and k<j):\n",
    "                      x2[i][j][k] = 1\n",
    "                      #print x2[i-1][j-1][k-1]\n",
    "                  else:\n",
    "                      x2[i][j][k] = 0\n",
    "                      #print x2[i-1][j-1][k-1]\n",
    "                  adBits_2 >>= 1\n",
    "              x2[i][j][j] = 1\n",
    "          j = j+1\n",
    "   return x2, y\n",
    "\n",
    "def updateLabelBits(x, y, seqsize=100):\n",
    "    for i in range(x.shape[0]):\n",
    "        #print(' for each train sample  ... ', i)\n",
    "        label_dict = {}\n",
    "        label_num = 1\n",
    "        for j in range(seqsize):\n",
    "            if (x[i][j][j] == 0):\n",
    "                y[i][j] = 0\n",
    "            else:\n",
    "                if y[i][j] in label_dict:\n",
    "                    y[i][j] = label_dict[y[i][j]]\n",
    "                else:\n",
    "                    label_dict[y[i][j]] = label_num\n",
    "                    y[i][j] = label_num\n",
    "                    label_num = label_num + 1\n",
    "    return y\n",
    "\n",
    "# ============================== Post Process ==================================\n",
    "\n",
    "csv_rows = []\n",
    "\n",
    "def post_process (x2_pred, predicted, seqsize=100):\n",
    "    #Calculate the number of edges which will require correction\n",
    "    invCols = 0\n",
    "    edges = 0\n",
    "    for i in range(x2_pred.shape[0]):\n",
    "        for j in range(seqsize): # row\n",
    "            for k in range(j): # col\n",
    "                adj = x2_pred[i][j][k]\n",
    "                if (adj == 1):\n",
    "                    edges += 1\n",
    "                    if (np.argmax(predicted[i][j]) == np.argmax(predicted[i][k])):\n",
    "                        invCols += 1\n",
    "                        \n",
    "    print('Total No of edges ', edges)\n",
    "    print('# of edges with invalid coloring ', invCols)\n",
    "    print('Total percentage of edges with invalid colors ', invCols/edges)\n",
    "\n",
    "def post_process_chromatic (x2_pred, predicted, seqsize=100):  \n",
    "    colors_list_list = []\n",
    "    for i in range(x2_pred.shape[0]):\n",
    "        colors_list = []\n",
    "        for j in range(seqsize):\n",
    "            # Valid nodes will have below set to 1 so check the color \n",
    "            # assignment of those nodes only\n",
    "            if (x2_pred[i][j][j] != 0):\n",
    "                colors_list.append(np.argmax(predicted[i][j]))\n",
    "        print('Colors list of graph ', i, ' is  \\n', colors_list)\n",
    "        chromatic_number = len(set(colors_list))\n",
    "        print('Chromatic number of graph ', i, ' is  ', chromatic_number)\n",
    "        colors_list_list.append(colors_list)\n",
    "    return colors_list_list\n",
    "\n",
    "def create_csv_rows (graph_name, colors_list_list_before_correction, \n",
    "                     colors_list_list_after_correction):    \n",
    "    for i in range(len(colors_list_list_before_correction)):\n",
    "        row = [graph_name, i, len(set(colors_list_list_before_correction[i])), \n",
    "               len(set(colors_list_list_after_correction[i]))]        \n",
    "        csv_rows.append(row)\n",
    "\n",
    "def post_process_correction (x2_pred, predicted, colors_list_list, seqsize=100): \n",
    "  totInvCols = 0\n",
    "  totEdges = 0\n",
    "\n",
    "  for i in range(x2_pred.shape[0]):\n",
    "      #maxcol = max(xpredicted[i])\n",
    "      maxcol = max(colors_list_list[i])\n",
    "      #print(maxcol)\n",
    "      #mcol = maxcol[0]\n",
    "      maxorigcol = maxcol\n",
    "      mcolnew = maxcol\n",
    "      #print('Maxcol = ',maxcol[0])\n",
    "      #print(' ... FOR SAMPLE  ... ', i)\n",
    "      invCols = 0\n",
    "      edges = 0;\n",
    "      newCol = 500\n",
    "\n",
    "      for j in range(seqsize):\n",
    "          #print(' ... ... FOR EACH NODE ... ...', j)\n",
    "          for k in range(j):\n",
    "              #print(' ... ... ... for each adjacency  ... ... ...', k)\n",
    "              adj = x2_pred[i][j][k]\n",
    "              #There is an edge\n",
    "              if ( adj == 1 ):\n",
    "                  edges += 1\n",
    "                  if ( np.argmax(predicted[i][j]) == np.argmax(predicted[i][k]) ):                   \n",
    "                      col_j = np.argmax(predicted[i][j])\n",
    "                      col_k = np.argmax(predicted[i][k])\n",
    "                      invCols += 1\n",
    "\n",
    "                      #Check whether we can give one of the existing colors\n",
    "                      foundfinalcol = 0\n",
    "                      for  y in range(1,maxcol+1):\n",
    "                          #print('Check for COLOR NO ... ', y)\n",
    "                          if ( foundfinalcol == 1 ) :\n",
    "                              #print('FOUND COLOR ALREADY  ... leave the loop')\n",
    "                              break\n",
    "\n",
    "                          foundcol = 0\n",
    "                          #Check the adjacent nodes of j\n",
    "                          #for  z in range(j):\n",
    "                          for z in range(seqsize):\n",
    "                              if j!=z:\n",
    "                                  if  (   ((x2_pred[i][j][z] == 1) and (np.argmax(predicted[i][z]) == y))\n",
    "                                      or  ((x2_pred[i][z][j] == 1) and (np.argmax(predicted[i][z]) == y))\n",
    "                                      ):\n",
    "                                      #print('[1] Adjacent node ... from ',j, '-->', z, 'color = ',xpredicted[i][z][0] )\n",
    "                                      foundcol = 1\n",
    "                                      #print('[1] Found Color ', y, ' for node ', z, 'from node ', j )\n",
    "                                      break\n",
    "\n",
    "                          #Finished checking the adjacent nodes of j\n",
    "                          #Color y is not used by any of j's neighbours\n",
    "                          #print('[1] Finished Checking the adjacent node of ... ',j,' ... foundcol = ',foundcol)\n",
    "                          if ( foundcol == 0 ) :\n",
    "                              #assign any prediction > 1\n",
    "                              predicted[i][j][y] = 2\n",
    "                              #print('[1] Reuse color ', y, ' for node ', j)\n",
    "                              foundfinalcol = 1\n",
    "\n",
    "                          else :\n",
    "                              foundcol = 0                                                            \n",
    "                              #Check the adjacent nodes of k\n",
    "                              for z in range(seqsize):\n",
    "                                  if k!=z:\n",
    "                                      if  (   ((x2_pred[i][k][z] == 1) and (np.argmax(predicted[i][z]) == y))\n",
    "                                          or  ((x2_pred[i][z][k] == 1) and (np.argmax(predicted[i][z]) == y))\n",
    "                                          ):\n",
    "                                          #print('[1] Adjacent node ... from ',j, '-->', z, 'color = ',xpredicted[i][z][0] )\n",
    "                                          foundcol = 1\n",
    "                                          #print('[1] Found Color ', y, ' for node ', z, 'from node ', j )\n",
    "                                          break\n",
    "                              #Color y is not used by any of k's neighbours\n",
    "                              if ( foundcol == 0 ) :\n",
    "                                  #assign any prediction > 1\n",
    "                                  predicted[i][k][y] = 2\n",
    "                                  #print('[2] Reuse color ', y, ' for node ', k )\n",
    "                                  foundfinalcol = 1\n",
    "\n",
    "                      # Could not color using an existing color\n",
    "                      # Get a new color from 500 onwards OR use from the new 500 color number series\n",
    "                      if ( foundfinalcol == 0 ) :\n",
    "                           #newCol += 1\n",
    "                           mcolnew += 1\n",
    "                           #assign any prediction > 1\n",
    "                           predicted[i][k][mcolnew] = 2\n",
    "                           maxcol +=1\n",
    "                           #print('Use new color ', mcolnew, ' for node ', k)\n",
    "\n",
    "  return predicted\n",
    "\n"
   ]
  },
  {
   "cell_type": "markdown",
   "metadata": {},
   "source": [
    "## Data Process"
   ]
  },
  {
   "cell_type": "code",
   "execution_count": 65,
   "metadata": {},
   "outputs": [
    {
     "name": "stdout",
     "output_type": "stream",
     "text": [
      "shape 1:  (8158, 200) (8158, 100)\n",
      "shape 2:  (8158, 100, 100)\n",
      "shape 3:  (8158, 100, 100) (8158, 100)\n"
     ]
    }
   ],
   "source": [
    "seq_size = 100\n",
    "seq = pd.read_csv(\"train_data.csv\",header=None,low_memory=False)\n",
    "columns = seq.columns.tolist()\n",
    "\n",
    "#get the adj edges\n",
    "adj_edge = np.array(seq[columns[1:2*seq_size+1]])\n",
    "#get the colors\n",
    "data_color = np.array(seq[columns[2*seq_size+1:3*seq_size+1]])\n",
    "print(\"shape 1: \", adj_edge.shape, data_color.shape)\n",
    "\n",
    "X = np.zeros((adj_edge.shape[0], data_color.shape[1], seq_size))\n",
    "print(\"shape 2: \", X.shape)\n",
    "\n",
    "X, Y = adBits(adj_edge, X, data_color)\n",
    "Y = updateLabelBits(X, Y)\n",
    "\n",
    "\n",
    "print(\"shape 3: \", X.shape, Y.shape)\n"
   ]
  },
  {
   "cell_type": "code",
   "execution_count": 66,
   "metadata": {},
   "outputs": [
    {
     "data": {
      "text/plain": [
       "(torch.Size([8158, 100, 100]), torch.Size([8158, 100, 101]))"
      ]
     },
     "execution_count": 66,
     "metadata": {},
     "output_type": "execute_result"
    }
   ],
   "source": [
    "Y = np.eye(101, dtype='float32')[Y]\n",
    "X = torch.tensor(X, dtype=torch.float32)\n",
    "Y = torch.tensor(Y, dtype=torch.float32)\n",
    "X.shape, Y.shape"
   ]
  },
  {
   "cell_type": "code",
   "execution_count": 67,
   "metadata": {},
   "outputs": [
    {
     "data": {
      "text/plain": [
       "(torch.Size([6526, 100, 100]),\n",
       " torch.Size([6526, 100, 101]),\n",
       " torch.Size([1632, 100, 100]),\n",
       " torch.Size([1632, 100, 101]))"
      ]
     },
     "execution_count": 67,
     "metadata": {},
     "output_type": "execute_result"
    }
   ],
   "source": [
    "x_train, x_test, y_train, y_test = train_test_split(X, \n",
    "                                                    Y,\n",
    "                                                    test_size=0.2, \n",
    "                                                    random_state=42)\n",
    "x_train, x_test= x_train.to(device), x_test.to(device)\n",
    "y_train, y_test = y_train.to(device), y_test.to(device)\n",
    "x_train.shape, y_train.shape, x_test.shape, y_test.shape"
   ]
  },
  {
   "cell_type": "code",
   "execution_count": 30,
   "metadata": {},
   "outputs": [
    {
     "name": "stderr",
     "output_type": "stream",
     "text": [
      "2023-12-07 11:26:41.668696: I tensorflow/core/util/port.cc:113] oneDNN custom operations are on. You may see slightly different numerical results due to floating-point round-off errors from different computation orders. To turn them off, set the environment variable `TF_ENABLE_ONEDNN_OPTS=0`.\n",
      "2023-12-07 11:26:41.902653: E external/local_xla/xla/stream_executor/cuda/cuda_dnn.cc:9261] Unable to register cuDNN factory: Attempting to register factory for plugin cuDNN when one has already been registered\n",
      "2023-12-07 11:26:41.902807: E external/local_xla/xla/stream_executor/cuda/cuda_fft.cc:607] Unable to register cuFFT factory: Attempting to register factory for plugin cuFFT when one has already been registered\n",
      "2023-12-07 11:26:41.941682: E external/local_xla/xla/stream_executor/cuda/cuda_blas.cc:1515] Unable to register cuBLAS factory: Attempting to register factory for plugin cuBLAS when one has already been registered\n",
      "2023-12-07 11:26:42.023480: I tensorflow/core/platform/cpu_feature_guard.cc:182] This TensorFlow binary is optimized to use available CPU instructions in performance-critical operations.\n",
      "To enable the following instructions: AVX2 AVX_VNNI FMA, in other operations, rebuild TensorFlow with the appropriate compiler flags.\n",
      "2023-12-07 11:26:42.836688: W tensorflow/compiler/tf2tensorrt/utils/py_utils.cc:38] TF-TRT Warning: Could not find TensorRT\n"
     ]
    },
    {
     "name": "stdout",
     "output_type": "stream",
     "text": [
      "(8158, 100, 100)\n",
      "(8158, 100, 101)\n"
     ]
    }
   ],
   "source": [
    "seqsize = 100\n",
    "\n",
    "eseq1 = pd.read_csv(\"train_data.csv\",header=None,low_memory=False)\n",
    "\n",
    "eseq  = eseq1\n",
    "\n",
    "columns = eseq.columns.tolist()\n",
    "#2 entries for each node's adjacency \n",
    "edata = eseq[columns[1:3*seqsize+1]]\n",
    "#get the adj edges\n",
    "edataadj = eseq[columns[1:2*seqsize+1]]\n",
    "#get the colors\n",
    "edatacols = eseq[columns[2*seqsize+1:3*seqsize+1]]\n",
    "#chromatic number\n",
    "ncols = eseq[columns[0:1]]\n",
    "\n",
    "#Now make x_train a 2-dim array\n",
    "#As we have read the adjacency row as bits\n",
    "#and we now want to make them into features\n",
    "#x_train and x2_train have different shapes as 2 LONGs are present in x_train\n",
    "#So use y_train.shape[1] instead of x_train.shape[1]\n",
    "#x2_train = np.zeros((x_train.shape[0],y_train.shape[1],128))\n",
    "from keras.utils import to_categorical\n",
    "\n",
    "x_train, y_train = np.array(edataadj), np.array(edatacols)\n",
    "x2_train = np.zeros((x_train.shape[0], y_train.shape[1], seqsize))\n",
    "x2_train, y_train = adBits(x_train, x2_train, y_train)\n",
    "y_train = updateLabelBits(x2_train, y_train)\n",
    "y2_train = to_categorical(y_train, num_classes=101)\n",
    "print(x2_train.shape)\n",
    "print(y2_train.shape)\n"
   ]
  },
  {
   "cell_type": "code",
   "execution_count": 57,
   "metadata": {},
   "outputs": [
    {
     "data": {
      "text/plain": [
       "(array([[1., 1., 1., 0., 0., 0.],\n",
       "        [1., 1., 1., 1., 0., 0.],\n",
       "        [1., 1., 1., 1., 0., 0.],\n",
       "        [0., 1., 1., 1., 0., 0.]]),\n",
       " array([ 6.,  0., 13.,  0., 11.,  0.]),\n",
       " array([1, 2, 3, 1, 0, 0]),\n",
       " array([[0., 1., 0., 0., 0., 0.],\n",
       "        [0., 0., 1., 0., 0., 0.],\n",
       "        [0., 0., 0., 1., 0., 0.],\n",
       "        [0., 1., 0., 0., 0., 0.]], dtype=float32))"
      ]
     },
     "execution_count": 57,
     "metadata": {},
     "output_type": "execute_result"
    }
   ],
   "source": [
    "# y2_train[0][0:3]\n",
    "# y_train.shape, y_train[38], y2_train[38][3]\n",
    "x2_train[38, 0:4, 0:6], x_train[38, 0:6], y_train[38, 0:6], y2_train[38, 0:4, 0:6]"
   ]
  },
  {
   "cell_type": "code",
   "execution_count": 118,
   "metadata": {},
   "outputs": [],
   "source": [
    "class CustomDataset(Dataset):\n",
    "    def __init__(self, img_dir, seq_size=100, device=device):\n",
    "        seq = pd.read_csv(img_dir, header=None, low_memory=False)\n",
    "        columns = seq.columns.tolist()\n",
    "        #get the adj edges\n",
    "        adj_edge = np.array(seq[columns[1:2*seq_size+1]])\n",
    "        #get the colors\n",
    "        data_color = np.array(seq[columns[2*seq_size+1:3*seq_size+1]])\n",
    "        self.X = np.zeros((adj_edge.shape[0], data_color.shape[1], seq_size))\n",
    "        self.X, self.Y = adBits(adj_edge, self.X, data_color)\n",
    "        self.Y = updateLabelBits(self.X, self.Y)\n",
    "        self.Y = np.eye(101, dtype='float32')[self.Y]\n",
    "        self.X = torch.tensor(self.X, dtype=torch.float32).to(device)\n",
    "        self.Y = torch.tensor(self.Y, dtype=torch.float32).to(device)\n",
    "        print(\"X shape: \", self.X.shape, \", Y shape: \", self.Y.shape)\n",
    "        # print(self.Y[38, 0:4, 0:6])\n",
    "        # X shape:  torch.Size([8158, 100, 100]) , Y shape:  torch.Size([8158, 100, 101])\n",
    "        # tensor([[0., 1., 0., 0., 0., 0.],\n",
    "        #         [0., 0., 1., 0., 0., 0.],\n",
    "        #         [0., 0., 0., 1., 0., 0.],\n",
    "        #         [0., 1., 0., 0., 0., 0.]], device='cuda:0')\n",
    "\n",
    "    def __len__(self):\n",
    "        return self.X.shape[0]\n",
    "\n",
    "    def __getitem__(self, idx):\n",
    "        ig = self.X[idx] # interference graph\n",
    "        label = self.Y[idx]\n",
    "        return ig, label        "
   ]
  },
  {
   "cell_type": "code",
   "execution_count": 119,
   "metadata": {},
   "outputs": [
    {
     "name": "stdout",
     "output_type": "stream",
     "text": [
      "X shape:  torch.Size([8158, 100, 100]) , Y shape:  torch.Size([8158, 100, 101])\n",
      "Dataloaders: (<torch.utils.data.dataloader.DataLoader object at 0x7f56a59662b0>, <torch.utils.data.dataloader.DataLoader object at 0x7f55c06c8dc0>)\n",
      "Length of train dataloader: 204 batches of 32\n",
      "Length of test dataloader: 51 batches of 32\n"
     ]
    }
   ],
   "source": [
    "BATCH_SIZE = 32\n",
    "full_dataset = CustomDataset(\n",
    "    img_dir=\"train_data.csv\",\n",
    ")\n",
    "\n",
    "train_size = int(0.8 * len(full_dataset))\n",
    "test_size = len(full_dataset) - train_size\n",
    "train_data, test_data = torch.utils.data.random_split(full_dataset, \n",
    "                                                      [train_size, test_size])\n",
    "\n",
    "train_dataloader = DataLoader(\n",
    "    dataset=train_data,\n",
    "    batch_size=BATCH_SIZE,\n",
    "    shuffle=True\n",
    ")\n",
    "test_dataloader = DataLoader(\n",
    "    dataset=test_data,\n",
    "    batch_size=BATCH_SIZE,\n",
    "    shuffle=False\n",
    ")\n",
    "\n",
    "print(f\"Dataloaders: {train_dataloader, test_dataloader}\") \n",
    "print(f\"Length of train dataloader: {len(train_dataloader)} batches of {BATCH_SIZE}\")\n",
    "print(f\"Length of test dataloader: {len(test_dataloader)} batches of {BATCH_SIZE}\")\n",
    "\n"
   ]
  },
  {
   "cell_type": "markdown",
   "metadata": {},
   "source": [
    "## Build Model"
   ]
  },
  {
   "cell_type": "code",
   "execution_count": 142,
   "metadata": {},
   "outputs": [],
   "source": [
    "class TimeDistributed(nn.Module):\n",
    "    def __init__(self, module, batch_first=False):\n",
    "        super(TimeDistributed, self).__init__()\n",
    "        self.module = module\n",
    "        self.batch_first = batch_first\n",
    "\n",
    "    def forward(self, x):\n",
    "        if len(x.size()) <= 2:\n",
    "            return self.module(x)\n",
    "        # Squash samples and timesteps into a single axis\n",
    "        x_reshape = x.contiguous().view(-1, x.size(-1))  # (samples * timesteps, input_size)\n",
    "        y = self.module(x_reshape)\n",
    "        # We have to reshape Y\n",
    "        if self.batch_first:\n",
    "            y = y.contiguous().view(x.size(0), -1, y.size(-1))  # (samples, timesteps, output_size)\n",
    "        else:\n",
    "            y = y.view(-1, x.size(1), y.size(-1))  # (timesteps, samples, output_size)\n",
    "        return y\n",
    "\n",
    "\n",
    "class DLRegAlloc(nn.Module):\n",
    "    def __init__(self):\n",
    "        super().__init__()\n",
    "        self.lstm_1 = nn.LSTM(input_size=100, hidden_size=512, \n",
    "                              batch_first=True, bidirectional=True)\n",
    "        self.lstm_2 = nn.LSTM(input_size=1024, hidden_size=256, \n",
    "                              batch_first=True,bidirectional=True)\n",
    "        self.lstm_3 = nn.LSTM(input_size=512, hidden_size=128, \n",
    "                              batch_first=True,bidirectional=True)\n",
    "        # self.lstm_1 = nn.LSTM(input_size=512, hidden_size=256, bidirectional=True)\n",
    "        # self.lstm_2 = nn.LSTM(input_size=256, hidden_size=128, bidirectional=True)\n",
    "        # self.lstm_3 = nn.LSTM(input_size=128, hidden_size=64, bidirectional=True)\n",
    "        self.dropout = nn.Dropout(0.2)\n",
    "        self.fc = nn.Linear(in_features=256, out_features=101)\n",
    "        self.softmax = nn.Softmax(dim=1)\n",
    "        self.time_distributed = TimeDistributed(self.softmax)\n",
    "        \n",
    "    def forward(self, x):\n",
    "        # print(\"----: \", x.shape)\n",
    "        x, _ = self.lstm_1(x)\n",
    "        # print(\"lstm1 shape: \", x.shape)\n",
    "        x = self.dropout(x)\n",
    "\n",
    "        x, _ = self.lstm_2(x)\n",
    "        # print(\"lstm2 shape: \", x.shape)\n",
    "        x = self.dropout(x)\n",
    "\n",
    "        x, _ = self.lstm_3(x)\n",
    "        # print(\"lstm3 shape: \", x.shape)\n",
    "        x = self.dropout(x)\n",
    "\n",
    "        x = self.fc(x)\n",
    "        # print(\"fc shape: \", x.shape)\n",
    "\n",
    "        x = self.time_distributed(x)\n",
    "        # print(\"time_distributed shape: \", x.shape)\n",
    "\n",
    "        return x\n",
    "\n",
    "\n",
    "model = DLRegAlloc().to(device)\n"
   ]
  },
  {
   "cell_type": "code",
   "execution_count": 135,
   "metadata": {},
   "outputs": [
    {
     "data": {
      "text/plain": [
       "(torch.Size([32, 100, 100]),\n",
       " torch.Size([32, 100, 101]),\n",
       " torch.Size([32, 100, 101]),\n",
       " tensor([[1., 0., 1., 0., 0., 0.],\n",
       "         [0., 1., 0., 1., 1., 0.],\n",
       "         [0., 0., 1., 1., 0., 0.],\n",
       "         [0., 1., 1., 1., 1., 1.],\n",
       "         [0., 0., 0., 1., 1., 1.],\n",
       "         [0., 0., 0., 1., 1., 1.]], device='cuda:0'),\n",
       " tensor([[0., 1., 0., 0., 0., 0.],\n",
       "         [0., 0., 1., 0., 0., 0.],\n",
       "         [0., 0., 1., 0., 0., 0.],\n",
       "         [0., 1., 0., 0., 0., 0.],\n",
       "         [0., 0., 0., 1., 0., 0.],\n",
       "         [0., 0., 0., 0., 1., 0.]], device='cuda:0'),\n",
       " torch.Size([32, 100, 101]),\n",
       " tensor([[0.0106, 0.0106, 0.0095, 0.0094, 0.0100, 0.0102],\n",
       "         [0.0106, 0.0106, 0.0095, 0.0093, 0.0099, 0.0102],\n",
       "         [0.0105, 0.0104, 0.0096, 0.0095, 0.0097, 0.0102],\n",
       "         [0.0106, 0.0105, 0.0095, 0.0093, 0.0097, 0.0101],\n",
       "         [0.0108, 0.0105, 0.0094, 0.0091, 0.0097, 0.0102],\n",
       "         [0.0108, 0.0106, 0.0095, 0.0094, 0.0099, 0.0101]], device='cuda:0',\n",
       "        grad_fn=<SliceBackward0>))"
      ]
     },
     "execution_count": 135,
     "metadata": {},
     "output_type": "execute_result"
    }
   ],
   "source": [
    "test_x, test_y = next(iter(train_dataloader))\n",
    "test_pred = model(test_x)\n",
    "test_x.shape, test_y.shape, test_pred.shape, test_x[0, 0:6, 0:6], \\\n",
    "    test_y[0, 0:6, 0:6], test_pred.shape, test_pred[0, 0:6, 0:6]"
   ]
  },
  {
   "cell_type": "code",
   "execution_count": 123,
   "metadata": {},
   "outputs": [
    {
     "data": {
      "text/plain": [
       "tensor([[54, 54, 54,  ..., 64, 64, 64],\n",
       "        [60, 54, 54,  ..., 64, 64, 64],\n",
       "        [54, 54, 64,  ..., 64, 64, 64],\n",
       "        ...,\n",
       "        [54, 54, 54,  ..., 64, 54, 64],\n",
       "        [54, 54, 54,  ..., 64, 64, 64],\n",
       "        [54, 54, 64,  ..., 64, 64, 64]], device='cuda:0')"
      ]
     },
     "execution_count": 123,
     "metadata": {},
     "output_type": "execute_result"
    }
   ],
   "source": [
    "test_pred.argmax(dim=2)"
   ]
  },
  {
   "cell_type": "code",
   "execution_count": 124,
   "metadata": {},
   "outputs": [],
   "source": [
    "loss_fn = nn.CrossEntropyLoss()\n",
    "optimizer = torch.optim.Adam(params=model.parameters(), lr=0.01)\n",
    "from helper_functions import accuracy_fn"
   ]
  },
  {
   "cell_type": "code",
   "execution_count": 155,
   "metadata": {},
   "outputs": [],
   "source": [
    "def train_step(model: torch.nn.Module, \n",
    "               data_loader: torch.utils.data.DataLoader,\n",
    "               loss_fn: torch.nn.Module,\n",
    "               optimizer: torch.optim.Optimizer,\n",
    "               accuracy_fn,\n",
    "               device: torch.device = device,\n",
    "               train_loss_values=None,\n",
    "               train_acc_values=None,\n",
    "               tracking=False\n",
    "               ):\n",
    "    train_loss, train_acc = 0, 0\n",
    "    # model.to(device)\n",
    "    for batch, (X, y) in enumerate(data_loader):\n",
    "        model.train()\n",
    "        # +++++++\n",
    "        # y_pred shape:  torch.Size([32, 100, 101])\n",
    "        # y shape:  torch.Size([32, 100, 101])\n",
    "        y_pred = model(X)\n",
    "        loss = loss_fn(y_pred, y)\n",
    "        train_loss += loss\n",
    "        train_acc += accuracy_fn(y_true=y, y_pred=y_pred)\n",
    "        optimizer.zero_grad()\n",
    "        loss.backward()\n",
    "        optimizer.step()\n",
    "    train_loss /= len(data_loader)\n",
    "    train_acc /= len(data_loader)\n",
    "    if tracking:\n",
    "        train_loss_values.append(train_loss.clone().detach().cpu().numpy())\n",
    "        train_acc_values.append(train_acc)\n",
    "    print(f\"Train loss: {train_loss:.5f} | Train acc: {train_acc:.2f}%\")\n",
    "\n",
    "def test_step(model: torch.nn.Module, \n",
    "              data_loader: torch.utils.data.DataLoader,\n",
    "              loss_fn: torch.nn.Module, \n",
    "              accuracy_fn,\n",
    "              device: torch.device = device,\n",
    "              test_loss_values=None,\n",
    "              test_acc_values=None,\n",
    "              tracking=False):\n",
    "    test_loss, test_acc = 0, 0\n",
    "    model.eval()\n",
    "    with torch.inference_mode():\n",
    "        for X_test, y_test in data_loader:\n",
    "            X_test, y_test = X_test.to(device), y_test.to(device)\n",
    "            test_pred = model(X_test)\n",
    "            test_loss += loss_fn(test_pred, y_test)\n",
    "            test_acc += accuracy_fn(y_true=y_test, y_pred=test_pred)\n",
    "        test_loss /= len(data_loader)\n",
    "        test_acc /= len(data_loader) \n",
    "        if tracking:\n",
    "            test_loss_values.append(test_loss.clone().detach().cpu().numpy())\n",
    "            test_acc_values.append(test_acc)\n",
    "        print(f\"Test loss: {test_loss:.5f}, Test acc: {test_acc:.2f}%\\n\")\n",
    "\n",
    "\n",
    "        "
   ]
  },
  {
   "cell_type": "markdown",
   "metadata": {},
   "source": [
    "## Train"
   ]
  },
  {
   "cell_type": "code",
   "execution_count": 156,
   "metadata": {},
   "outputs": [
    {
     "data": {
      "application/vnd.jupyter.widget-view+json": {
       "model_id": "bd4794e1c0044957933533a5d2e06b00",
       "version_major": 2,
       "version_minor": 0
      },
      "text/plain": [
       "  0%|          | 0/100 [00:00<?, ?it/s]"
      ]
     },
     "metadata": {},
     "output_type": "display_data"
    },
    {
     "name": "stdout",
     "output_type": "stream",
     "text": [
      "Epoch: 0\n",
      "------\n",
      "__+++_+++\n",
      "<class 'torch.Tensor'>\n",
      "<class 'float'>\n",
      "Train loss: 4.55956 | Train acc: 0.00%\n",
      "Test loss: 4.55956, Test acc: 0.00%\n",
      "\n",
      "Epoch: 1\n",
      "------\n"
     ]
    },
    {
     "ename": "RuntimeError",
     "evalue": "cudnn RNN backward can only be called in training mode",
     "output_type": "error",
     "traceback": [
      "\u001b[0;31m---------------------------------------------------------------------------\u001b[0m",
      "\u001b[0;31mRuntimeError\u001b[0m                              Traceback (most recent call last)",
      "\u001b[1;32m/home/chrenx/Desktop/eecs583/final-project/train-model/train_dl.ipynb Cell 19\u001b[0m line \u001b[0;36m2\n\u001b[1;32m     <a href='vscode-notebook-cell:/home/chrenx/Desktop/eecs583/final-project/train-model/train_dl.ipynb#X66sZmlsZQ%3D%3D?line=19'>20</a>\u001b[0m         tracking \u001b[39m=\u001b[39m \u001b[39mTrue\u001b[39;00m\n\u001b[1;32m     <a href='vscode-notebook-cell:/home/chrenx/Desktop/eecs583/final-project/train-model/train_dl.ipynb#X66sZmlsZQ%3D%3D?line=20'>21</a>\u001b[0m         epoch_count\u001b[39m.\u001b[39mappend(epoch)\n\u001b[0;32m---> <a href='vscode-notebook-cell:/home/chrenx/Desktop/eecs583/final-project/train-model/train_dl.ipynb#X66sZmlsZQ%3D%3D?line=21'>22</a>\u001b[0m     train_step(model\u001b[39m=\u001b[39;49mmodel,\n\u001b[1;32m     <a href='vscode-notebook-cell:/home/chrenx/Desktop/eecs583/final-project/train-model/train_dl.ipynb#X66sZmlsZQ%3D%3D?line=22'>23</a>\u001b[0m                data_loader\u001b[39m=\u001b[39;49mtrain_dataloader,\n\u001b[1;32m     <a href='vscode-notebook-cell:/home/chrenx/Desktop/eecs583/final-project/train-model/train_dl.ipynb#X66sZmlsZQ%3D%3D?line=23'>24</a>\u001b[0m                loss_fn\u001b[39m=\u001b[39;49mloss_fn,\n\u001b[1;32m     <a href='vscode-notebook-cell:/home/chrenx/Desktop/eecs583/final-project/train-model/train_dl.ipynb#X66sZmlsZQ%3D%3D?line=24'>25</a>\u001b[0m                optimizer\u001b[39m=\u001b[39;49moptimizer,\n\u001b[1;32m     <a href='vscode-notebook-cell:/home/chrenx/Desktop/eecs583/final-project/train-model/train_dl.ipynb#X66sZmlsZQ%3D%3D?line=25'>26</a>\u001b[0m                accuracy_fn\u001b[39m=\u001b[39;49maccuracy_fn,\n\u001b[1;32m     <a href='vscode-notebook-cell:/home/chrenx/Desktop/eecs583/final-project/train-model/train_dl.ipynb#X66sZmlsZQ%3D%3D?line=26'>27</a>\u001b[0m                device\u001b[39m=\u001b[39;49mdevice,\n\u001b[1;32m     <a href='vscode-notebook-cell:/home/chrenx/Desktop/eecs583/final-project/train-model/train_dl.ipynb#X66sZmlsZQ%3D%3D?line=27'>28</a>\u001b[0m                train_loss_values\u001b[39m=\u001b[39;49mtrain_loss_values,\n\u001b[1;32m     <a href='vscode-notebook-cell:/home/chrenx/Desktop/eecs583/final-project/train-model/train_dl.ipynb#X66sZmlsZQ%3D%3D?line=28'>29</a>\u001b[0m                train_acc_values\u001b[39m=\u001b[39;49mtrain_acc_values,\n\u001b[1;32m     <a href='vscode-notebook-cell:/home/chrenx/Desktop/eecs583/final-project/train-model/train_dl.ipynb#X66sZmlsZQ%3D%3D?line=29'>30</a>\u001b[0m                tracking\u001b[39m=\u001b[39;49mtracking)\n\u001b[1;32m     <a href='vscode-notebook-cell:/home/chrenx/Desktop/eecs583/final-project/train-model/train_dl.ipynb#X66sZmlsZQ%3D%3D?line=30'>31</a>\u001b[0m     test_step(data_loader\u001b[39m=\u001b[39mtest_dataloader,\n\u001b[1;32m     <a href='vscode-notebook-cell:/home/chrenx/Desktop/eecs583/final-project/train-model/train_dl.ipynb#X66sZmlsZQ%3D%3D?line=31'>32</a>\u001b[0m             model\u001b[39m=\u001b[39mmodel,\n\u001b[1;32m     <a href='vscode-notebook-cell:/home/chrenx/Desktop/eecs583/final-project/train-model/train_dl.ipynb#X66sZmlsZQ%3D%3D?line=32'>33</a>\u001b[0m             loss_fn\u001b[39m=\u001b[39mloss_fn,\n\u001b[0;32m   (...)\u001b[0m\n\u001b[1;32m     <a href='vscode-notebook-cell:/home/chrenx/Desktop/eecs583/final-project/train-model/train_dl.ipynb#X66sZmlsZQ%3D%3D?line=36'>37</a>\u001b[0m             test_acc_values\u001b[39m=\u001b[39mtest_acc_values,\n\u001b[1;32m     <a href='vscode-notebook-cell:/home/chrenx/Desktop/eecs583/final-project/train-model/train_dl.ipynb#X66sZmlsZQ%3D%3D?line=37'>38</a>\u001b[0m             tracking\u001b[39m=\u001b[39mtracking)\n\u001b[1;32m     <a href='vscode-notebook-cell:/home/chrenx/Desktop/eecs583/final-project/train-model/train_dl.ipynb#X66sZmlsZQ%3D%3D?line=39'>40</a>\u001b[0m train_time_end_model_2 \u001b[39m=\u001b[39m timer()\n",
      "\u001b[1;32m/home/chrenx/Desktop/eecs583/final-project/train-model/train_dl.ipynb Cell 19\u001b[0m line \u001b[0;36m2\n\u001b[1;32m     <a href='vscode-notebook-cell:/home/chrenx/Desktop/eecs583/final-project/train-model/train_dl.ipynb#X66sZmlsZQ%3D%3D?line=19'>20</a>\u001b[0m     train_acc \u001b[39m+\u001b[39m\u001b[39m=\u001b[39m accuracy_fn(y_true\u001b[39m=\u001b[39my, y_pred\u001b[39m=\u001b[39my_pred)\n\u001b[1;32m     <a href='vscode-notebook-cell:/home/chrenx/Desktop/eecs583/final-project/train-model/train_dl.ipynb#X66sZmlsZQ%3D%3D?line=20'>21</a>\u001b[0m     optimizer\u001b[39m.\u001b[39mzero_grad()\n\u001b[0;32m---> <a href='vscode-notebook-cell:/home/chrenx/Desktop/eecs583/final-project/train-model/train_dl.ipynb#X66sZmlsZQ%3D%3D?line=21'>22</a>\u001b[0m     loss\u001b[39m.\u001b[39;49mbackward()\n\u001b[1;32m     <a href='vscode-notebook-cell:/home/chrenx/Desktop/eecs583/final-project/train-model/train_dl.ipynb#X66sZmlsZQ%3D%3D?line=22'>23</a>\u001b[0m     optimizer\u001b[39m.\u001b[39mstep()\n\u001b[1;32m     <a href='vscode-notebook-cell:/home/chrenx/Desktop/eecs583/final-project/train-model/train_dl.ipynb#X66sZmlsZQ%3D%3D?line=23'>24</a>\u001b[0m train_loss \u001b[39m/\u001b[39m\u001b[39m=\u001b[39m \u001b[39mlen\u001b[39m(data_loader)\n",
      "File \u001b[0;32m~/anaconda3/envs/eecs583/lib/python3.9/site-packages/torch/_tensor.py:492\u001b[0m, in \u001b[0;36mTensor.backward\u001b[0;34m(self, gradient, retain_graph, create_graph, inputs)\u001b[0m\n\u001b[1;32m    482\u001b[0m \u001b[39mif\u001b[39;00m has_torch_function_unary(\u001b[39mself\u001b[39m):\n\u001b[1;32m    483\u001b[0m     \u001b[39mreturn\u001b[39;00m handle_torch_function(\n\u001b[1;32m    484\u001b[0m         Tensor\u001b[39m.\u001b[39mbackward,\n\u001b[1;32m    485\u001b[0m         (\u001b[39mself\u001b[39m,),\n\u001b[0;32m   (...)\u001b[0m\n\u001b[1;32m    490\u001b[0m         inputs\u001b[39m=\u001b[39minputs,\n\u001b[1;32m    491\u001b[0m     )\n\u001b[0;32m--> 492\u001b[0m torch\u001b[39m.\u001b[39;49mautograd\u001b[39m.\u001b[39;49mbackward(\n\u001b[1;32m    493\u001b[0m     \u001b[39mself\u001b[39;49m, gradient, retain_graph, create_graph, inputs\u001b[39m=\u001b[39;49minputs\n\u001b[1;32m    494\u001b[0m )\n",
      "File \u001b[0;32m~/anaconda3/envs/eecs583/lib/python3.9/site-packages/torch/autograd/__init__.py:251\u001b[0m, in \u001b[0;36mbackward\u001b[0;34m(tensors, grad_tensors, retain_graph, create_graph, grad_variables, inputs)\u001b[0m\n\u001b[1;32m    246\u001b[0m     retain_graph \u001b[39m=\u001b[39m create_graph\n\u001b[1;32m    248\u001b[0m \u001b[39m# The reason we repeat the same comment below is that\u001b[39;00m\n\u001b[1;32m    249\u001b[0m \u001b[39m# some Python versions print out the first line of a multi-line function\u001b[39;00m\n\u001b[1;32m    250\u001b[0m \u001b[39m# calls in the traceback and some print out the last line\u001b[39;00m\n\u001b[0;32m--> 251\u001b[0m Variable\u001b[39m.\u001b[39;49m_execution_engine\u001b[39m.\u001b[39;49mrun_backward(  \u001b[39m# Calls into the C++ engine to run the backward pass\u001b[39;49;00m\n\u001b[1;32m    252\u001b[0m     tensors,\n\u001b[1;32m    253\u001b[0m     grad_tensors_,\n\u001b[1;32m    254\u001b[0m     retain_graph,\n\u001b[1;32m    255\u001b[0m     create_graph,\n\u001b[1;32m    256\u001b[0m     inputs,\n\u001b[1;32m    257\u001b[0m     allow_unreachable\u001b[39m=\u001b[39;49m\u001b[39mTrue\u001b[39;49;00m,\n\u001b[1;32m    258\u001b[0m     accumulate_grad\u001b[39m=\u001b[39;49m\u001b[39mTrue\u001b[39;49;00m,\n\u001b[1;32m    259\u001b[0m )\n",
      "\u001b[0;31mRuntimeError\u001b[0m: cudnn RNN backward can only be called in training mode"
     ]
    }
   ],
   "source": [
    "torch.manual_seed(42)\n",
    "torch.cuda.manual_seed(42)\n",
    "\n",
    "from tqdm.auto import tqdm\n",
    "from timeit import default_timer as timer\n",
    "\n",
    "train_time_start_model_2 = timer()\n",
    "\n",
    "train_loss_values = []\n",
    "train_acc_values = []\n",
    "test_loss_values = []\n",
    "test_acc_values = []\n",
    "epoch_count = []\n",
    "\n",
    "epochs = 100\n",
    "for epoch in tqdm(range(epochs)):\n",
    "    print(f\"Epoch: {epoch}\\n------\")\n",
    "    tracking = False\n",
    "    if epoch % 10 == 0:\n",
    "        tracking = True\n",
    "        epoch_count.append(epoch)\n",
    "    train_step(model=model,\n",
    "               data_loader=train_dataloader,\n",
    "               loss_fn=loss_fn,\n",
    "               optimizer=optimizer,\n",
    "               accuracy_fn=accuracy_fn,\n",
    "               device=device,\n",
    "               train_loss_values=train_loss_values,\n",
    "               train_acc_values=train_acc_values,\n",
    "               tracking=tracking)\n",
    "    test_step(data_loader=test_dataloader,\n",
    "            model=model,\n",
    "            loss_fn=loss_fn,\n",
    "            accuracy_fn=accuracy_fn,\n",
    "            device=device,\n",
    "            test_loss_values=test_loss_values,\n",
    "            test_acc_values=test_acc_values,\n",
    "            tracking=tracking)\n",
    "\n",
    "train_time_end_model_2 = timer()\n",
    "total_train_time_model_2 = print_train_time(start=train_time_start_model_2,\n",
    "                                           end=train_time_end_model_2,\n",
    "                                           device=device)"
   ]
  },
  {
   "cell_type": "code",
   "execution_count": null,
   "metadata": {},
   "outputs": [],
   "source": [
    "\n",
    "MODEL_SAVE_PATH = \"torch_version.pth\"\n",
    "\n",
    "print(f\"Saving model to: {MODEL_SAVE_PATH}\")\n",
    "torch.save(obj=model.state_dict(), # only saving the state_dict() only saves the models learned parameters\n",
    "           f=MODEL_SAVE_PATH) \n"
   ]
  },
  {
   "cell_type": "markdown",
   "metadata": {},
   "source": [
    "## Plot loss & accuracy"
   ]
  },
  {
   "cell_type": "code",
   "execution_count": null,
   "metadata": {},
   "outputs": [],
   "source": [
    "plt.plot(epoch_count, train_loss_values, label=\"Train loss\")\n",
    "plt.plot(epoch_count, test_loss_values, label=\"Test loss\")\n",
    "plt.title(\"Training and test loss curves\")\n",
    "plt.ylabel(\"Loss\")\n",
    "plt.xlabel(\"Epochs\")\n",
    "plt.legend();"
   ]
  }
 ],
 "metadata": {
  "kernelspec": {
   "display_name": "eecs583",
   "language": "python",
   "name": "python3"
  },
  "language_info": {
   "codemirror_mode": {
    "name": "ipython",
    "version": 3
   },
   "file_extension": ".py",
   "mimetype": "text/x-python",
   "name": "python",
   "nbconvert_exporter": "python",
   "pygments_lexer": "ipython3",
   "version": "3.9.0"
  }
 },
 "nbformat": 4,
 "nbformat_minor": 2
}
