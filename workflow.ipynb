{
 "cells": [
  {
   "cell_type": "markdown",
   "metadata": {},
   "source": [
    "# 1. Generate Inteferece Graph"
   ]
  },
  {
   "cell_type": "code",
   "execution_count": null,
   "metadata": {},
   "outputs": [],
   "source": []
  },
  {
   "cell_type": "markdown",
   "metadata": {},
   "source": [
    "# 2. Make Prediction from DL4RegAlloc"
   ]
  },
  {
   "cell_type": "code",
   "execution_count": 9,
   "metadata": {},
   "outputs": [],
   "source": [
    "from numpy.random import seed\n",
    "import tensorflow as tf\n",
    "from tensorflow.keras import layers\n",
    "import numpy as np\n",
    "seed(1)\n",
    "tf.random.set_seed(2)"
   ]
  },
  {
   "cell_type": "markdown",
   "metadata": {},
   "source": [
    "### Build Model"
   ]
  },
  {
   "cell_type": "code",
   "execution_count": 10,
   "metadata": {},
   "outputs": [],
   "source": [
    "seqsize = 100\n",
    "seq_inputs = layers.Input(shape=(seqsize,100,), dtype='float32')\n",
    "encoder = layers.Bidirectional(layers.LSTM(512, return_sequences=True, name=\"lstm_1\"))(seq_inputs)\n",
    "encoder = layers.Dropout(0.2)(encoder)\n",
    "encoder = layers.Bidirectional(layers.LSTM(256, return_sequences=True, name=\"lstm_2\"))(encoder)\n",
    "encoder = layers.Dropout(0.2)(encoder)\n",
    "decoder = layers.Bidirectional(layers.LSTM(128, return_sequences=True, name=\"lstm_3\"))(encoder)\n",
    "decoder = layers.Dropout(0.2)(decoder)\n",
    "decoderoutputs = layers.TimeDistributed(layers.Dense(101,activation=\"softmax\"))(decoder)\n",
    "model = tf.keras.Model(inputs=seq_inputs, outputs=decoderoutputs)"
   ]
  },
  {
   "cell_type": "markdown",
   "metadata": {},
   "source": [
    "### Load Checkpoint"
   ]
  },
  {
   "cell_type": "code",
   "execution_count": 11,
   "metadata": {},
   "outputs": [],
   "source": [
    "model = tf.keras.models.load_model(\"DL4RegAlloc/saved_model/color3.h5\")"
   ]
  },
  {
   "cell_type": "code",
   "execution_count": null,
   "metadata": {},
   "outputs": [],
   "source": [
    "# TESTING\n",
    "csv_rows = []\n",
    "test_csvs =[\"DL4RegAlloc/baidu.csv\", \"DL4RegAlloc/gkarate.csv\"]\n",
    "for i,csv in enumerate(test_csvs):\n",
    "    print('\\n------PREDICTING ',csv,'-------')\n",
    "    predicted = model.predict(np.asarray(x2_pred_list[i]), batch_size=None, verbose=0, steps=None, callbacks=None)        \n",
    "    print('\\nInvalid edges percentage before color correction ->')\n",
    "    post_process (np.asarray(x2_pred_list[i]), predicted)\n",
    "    if (\"ntst100.csv\" in csv):\n",
    "        print('')\n",
    "    else:\n",
    "        print('\\nColors list and Chromatic number predicted by the model ->')\n",
    "        colors_list_list_before_correction = post_process_chromatic(np.asarray(x2_pred_list[i]), predicted)\n",
    "        print('\\nApply color correction ->')\n",
    "        predicted = post_process_correction(np.asarray(x2_pred_list[i]), predicted, colors_list_list_before_correction)\n",
    "        print('\\nColors list and Chromatic number following color correction ->')\n",
    "        colors_list_list_after_correction = post_process_chromatic(np.asarray(x2_pred_list[i]), predicted)\n",
    "        print('\\nInvalid edges percentage after color correction ->')\n",
    "        post_process (np.asarray(x2_pred_list[i]), predicted)\n",
    "        create_csv_rows(csv.rsplit('/',1)[1], colors_list_list_before_correction, colors_list_list_after_correction)\n",
    "\n",
    "import csv\n",
    "with open(llvm_result_csv, 'w') as csvfile:\n",
    "    # creating a csv writer object\n",
    "    csvwriter = csv.writer(csvfile)      \n",
    "    # writing the data rows\n",
    "    csvwriter.writerows(csv_rows)"
   ]
  },
  {
   "cell_type": "markdown",
   "metadata": {},
   "source": [
    "# 3. RegAlloc in LLVM"
   ]
  }
 ],
 "metadata": {
  "kernelspec": {
   "display_name": "eecs583",
   "language": "python",
   "name": "python3"
  },
  "language_info": {
   "codemirror_mode": {
    "name": "ipython",
    "version": 3
   },
   "file_extension": ".py",
   "mimetype": "text/x-python",
   "name": "python",
   "nbconvert_exporter": "python",
   "pygments_lexer": "ipython3",
   "version": "3.9.0"
  }
 },
 "nbformat": 4,
 "nbformat_minor": 2
}
