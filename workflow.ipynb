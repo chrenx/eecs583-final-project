{
 "cells": [
  {
   "cell_type": "markdown",
   "metadata": {},
   "source": [
    "# Generate Inteferece Graph"
   ]
  },
  {
   "cell_type": "code",
   "execution_count": null,
   "metadata": {},
   "outputs": [],
   "source": []
  },
  {
   "cell_type": "markdown",
   "metadata": {},
   "source": [
    "# Make Prediction from DL4RegAlloc"
   ]
  },
  {
   "cell_type": "code",
   "execution_count": 6,
   "metadata": {},
   "outputs": [],
   "source": [
    "from numpy.random import seed\n",
    "seed(1)\n",
    "import tensorflow as tf\n",
    "from tensorflow.keras import layers\n",
    "tf.random.set_seed(2)"
   ]
  },
  {
   "cell_type": "markdown",
   "metadata": {},
   "source": [
    "# Build Model"
   ]
  },
  {
   "cell_type": "code",
   "execution_count": null,
   "metadata": {},
   "outputs": [],
   "source": [
    "seqsize = 100\n",
    "seq_inputs = layers.Input(shape=(seqsize,100,), dtype='float32')\n",
    "encoder = layers.Bidirectional(layers.LSTM(512, return_sequences=True, name=\"lstm_1\"))(seq_inputs)\n",
    "encoder = layers.Dropout(0.2)(encoder)\n",
    "encoder = layers.Bidirectional(layers.LSTM(256, return_sequences=True, name=\"lstm_2\"))(encoder)\n",
    "encoder = layers.Dropout(0.2)(encoder)\n",
    "decoder = layers.Bidirectional(layers.LSTM(128, return_sequences=True, name=\"lstm_3\"))(encoder)\n",
    "decoder = layers.Dropout(0.2)(decoder)\n",
    "decoderoutputs = layers.TimeDistributed(layers.Dense(101,activation=\"softmax\"))(decoder)\n",
    "model = tf.keras.Model(inputs=seq_inputs, outputs=decoderoutputs)"
   ]
  },
  {
   "cell_type": "markdown",
   "metadata": {},
   "source": [
    "# RegAlloc in LLVM"
   ]
  }
 ],
 "metadata": {
  "kernelspec": {
   "display_name": "eecs583",
   "language": "python",
   "name": "python3"
  },
  "language_info": {
   "codemirror_mode": {
    "name": "ipython",
    "version": 3
   },
   "file_extension": ".py",
   "mimetype": "text/x-python",
   "name": "python",
   "nbconvert_exporter": "python",
   "pygments_lexer": "ipython3",
   "version": "3.9.0"
  }
 },
 "nbformat": 4,
 "nbformat_minor": 2
}
